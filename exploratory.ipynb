{
 "cells": [
  {
   "cell_type": "code",
   "execution_count": 1,
   "metadata": {
    "collapsed": true
   },
   "outputs": [],
   "source": [
    "import pandas as pd\n",
    "import numpy as np"
   ]
  },
  {
   "cell_type": "code",
   "execution_count": 12,
   "metadata": {
    "collapsed": true
   },
   "outputs": [],
   "source": [
    "base_folder = 'coding_test_data/'\n",
    "recs_file = '{base}recs.txt'.format(base=base_folder)\n",
    "bought_file = '{base}test.txt'.format(base=base_folder)"
   ]
  },
  {
   "cell_type": "code",
   "execution_count": 3,
   "metadata": {
    "collapsed": true
   },
   "outputs": [],
   "source": [
    "recs_df = pd.read_csv(recs_file, delimiter='\\t')"
   ]
  },
  {
   "cell_type": "code",
   "execution_count": 8,
   "metadata": {
    "collapsed": false
   },
   "outputs": [
    {
     "name": "stdout",
     "output_type": "stream",
     "text": [
      "   customer_id           1           2           3           4           5  \\\n",
      "0            0  HAQD69ZAZM  NSSV5DXJ76  RNT6T9Y2YE  DI0Z2ZY6HR  0IRSUTPQ00   \n",
      "1            1  V4W11SAR31  YNQSE7XWF5  TNHEK4UQ3X  LKOK8D6WOV  ZW4JVP728E   \n",
      "2            2  J3CSCOCK9T  BWS9JG7NK3  PEM6L1PCP1  B5LYBRX7HU  ZHLTHMVFWI   \n",
      "3            3  7DN0P5QZ37  FLR8BQ08YE  CYJ2ZGT5Q5  EDI0BPDKXN  9VJA7ZXDK2   \n",
      "4            4  HAQS9CULA4  BKRH8D99MZ  C27YE5IN66  0ZF56NYPMX  GBRNZWX1CR   \n",
      "\n",
      "            6           7           8           9          10  \n",
      "0  8H4IAHIW6F  UJVF0WM4ZK  7RPCLWJ3K5  86WM0K2XCX  Y3FNZYT024  \n",
      "1  SCUPKJ0570  1OJNRYJ66U  C37FD26F9V  PN8UFHXI3B  5YX78MO67B  \n",
      "2  M64ZJR15SQ  9L6PXZ7521  Y7FM500TI5  0G02BZH0GK  N6ZSHJN7CE  \n",
      "3  3PKZ2TLA85  A467MMHI9X  1FXQ1Q3GTU  9QE6FJNWBS  ZSV769XI2X  \n",
      "4  KS0GUH7MME  IV2LYEEI24  VDTYMHFMVL  U5WXRCUXG1  DEU8KUJ5IC  \n"
     ]
    },
    {
     "data": {
      "text/plain": [
       "200000"
      ]
     },
     "execution_count": 8,
     "metadata": {},
     "output_type": "execute_result"
    }
   ],
   "source": [
    "print recs_df.head()\n",
    "len(recs_df)"
   ]
  },
  {
   "cell_type": "code",
   "execution_count": 9,
   "metadata": {
    "collapsed": false
   },
   "outputs": [
    {
     "data": {
      "text/plain": [
       "200000"
      ]
     },
     "execution_count": 9,
     "metadata": {},
     "output_type": "execute_result"
    }
   ],
   "source": [
    "len(recs_df['customer_id'].unique())"
   ]
  },
  {
   "cell_type": "code",
   "execution_count": 10,
   "metadata": {
    "collapsed": true
   },
   "outputs": [],
   "source": [
    "r_and_d_subset = recs_df[recs_df['customer_id'] < 5]\n",
    "print r_and_d_subset"
   ]
  },
  {
   "cell_type": "code",
   "execution_count": 24,
   "metadata": {
    "collapsed": false
   },
   "outputs": [],
   "source": [
    "r_and_d_subset.to_csv('{0}rec_subset.tsv'.format(base_folder), sep='\\t', index=False)"
   ]
  },
  {
   "cell_type": "code",
   "execution_count": 17,
   "metadata": {
    "collapsed": false
   },
   "outputs": [],
   "source": [
    "bought_df = pd.read_csv(bought_file, delimiter='\\t')"
   ]
  },
  {
   "cell_type": "code",
   "execution_count": 18,
   "metadata": {
    "collapsed": false
   },
   "outputs": [
    {
     "data": {
      "text/html": [
       "<div style=\"max-height:1000px;max-width:1500px;overflow:auto;\">\n",
       "<table border=\"1\" class=\"dataframe\">\n",
       "  <thead>\n",
       "    <tr style=\"text-align: right;\">\n",
       "      <th></th>\n",
       "      <th>customer_id</th>\n",
       "      <th>product_id</th>\n",
       "    </tr>\n",
       "  </thead>\n",
       "  <tbody>\n",
       "    <tr>\n",
       "      <th>0</th>\n",
       "      <td>0</td>\n",
       "      <td>Z098DWB7U7</td>\n",
       "    </tr>\n",
       "    <tr>\n",
       "      <th>1</th>\n",
       "      <td>1</td>\n",
       "      <td>4B71MBD1U9</td>\n",
       "    </tr>\n",
       "    <tr>\n",
       "      <th>2</th>\n",
       "      <td>2</td>\n",
       "      <td>SER2XKKO1U</td>\n",
       "    </tr>\n",
       "    <tr>\n",
       "      <th>3</th>\n",
       "      <td>3</td>\n",
       "      <td>DVM62MZHSP</td>\n",
       "    </tr>\n",
       "    <tr>\n",
       "      <th>4</th>\n",
       "      <td>4</td>\n",
       "      <td>WWPZJPUQXM</td>\n",
       "    </tr>\n",
       "  </tbody>\n",
       "</table>\n",
       "</div>"
      ],
      "text/plain": [
       "   customer_id  product_id\n",
       "0            0  Z098DWB7U7\n",
       "1            1  4B71MBD1U9\n",
       "2            2  SER2XKKO1U\n",
       "3            3  DVM62MZHSP\n",
       "4            4  WWPZJPUQXM"
      ]
     },
     "execution_count": 18,
     "metadata": {},
     "output_type": "execute_result"
    }
   ],
   "source": [
    "bought_df.head()"
   ]
  },
  {
   "cell_type": "code",
   "execution_count": 20,
   "metadata": {
    "collapsed": false
   },
   "outputs": [
    {
     "name": "stdout",
     "output_type": "stream",
     "text": [
      "300092\n",
      "200000\n"
     ]
    }
   ],
   "source": [
    "print len(bought_df['customer_id'])\n",
    "print len(bought_df['customer_id'].unique())"
   ]
  },
  {
   "cell_type": "code",
   "execution_count": 21,
   "metadata": {
    "collapsed": false
   },
   "outputs": [
    {
     "name": "stdout",
     "output_type": "stream",
     "text": [
      "        customer_id  product_id\n",
      "0                 0  Z098DWB7U7\n",
      "1                 1  4B71MBD1U9\n",
      "2                 2  SER2XKKO1U\n",
      "3                 3  DVM62MZHSP\n",
      "4                 4  WWPZJPUQXM\n",
      "200000            3  3PKZ2TLA85\n"
     ]
    }
   ],
   "source": [
    "bought_sub = bought_df[bought_df['customer_id'] < 5]\n",
    "print bought_sub"
   ]
  },
  {
   "cell_type": "code",
   "execution_count": 23,
   "metadata": {
    "collapsed": true
   },
   "outputs": [],
   "source": [
    "bought_sub.to_csv('{0}bought_subset.tsv'.format(base_folder), sep = '\\t', index=False)"
   ]
  },
  {
   "cell_type": "code",
   "execution_count": null,
   "metadata": {
    "collapsed": true
   },
   "outputs": [],
   "source": []
  }
 ],
 "metadata": {
  "kernelspec": {
   "display_name": "Python 2",
   "language": "python",
   "name": "python2"
  },
  "language_info": {
   "codemirror_mode": {
    "name": "ipython",
    "version": 2
   },
   "file_extension": ".py",
   "mimetype": "text/x-python",
   "name": "python",
   "nbconvert_exporter": "python",
   "pygments_lexer": "ipython2",
   "version": "2.7.10"
  }
 },
 "nbformat": 4,
 "nbformat_minor": 0
}
